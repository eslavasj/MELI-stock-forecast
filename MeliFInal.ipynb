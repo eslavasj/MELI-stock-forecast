{
 "cells": [
  {
   "cell_type": "markdown",
   "metadata": {},
   "source": [
    "# Tp Final Data Science Digital House - Grupo 6 - MeliChallenge"
   ]
  },
  {
   "cell_type": "markdown",
   "metadata": {},
   "source": [
    "## César Ybalo, Rodrigo Voena, Santiago Eslava, Tobías Canavesi y Agustín Galli"
   ]
  },
  {
   "cell_type": "markdown",
   "metadata": {},
   "source": [
    "### Comenzamos cargando las librerias."
   ]
  },
  {
   "cell_type": "code",
   "execution_count": 1,
   "metadata": {},
   "outputs": [
    {
     "name": "stdout",
     "output_type": "stream",
     "text": [
      "Collecting jsonlines\n",
      "  Downloading jsonlines-2.0.0-py3-none-any.whl (6.3 kB)\n",
      "Installing collected packages: jsonlines\n",
      "Successfully installed jsonlines-2.0.0\n"
     ]
    }
   ],
   "source": [
    "import pandas as pd\n",
    "import numpy as np\n",
    "import json\n",
    "from tqdm import tqdm\n",
    "import csv\n",
    "import pickle\n",
    "import matplotlib.pyplot as plt\n",
    "import multiprocessing as mp\n",
    "from itertools import chain, islice\n",
    "from datetime import timedelta\n",
    "!pip install jsonlines\n",
    "import jsonlines\n",
    "import seaborn as sns\n",
    "from pathlib import Path\n",
    "import multiprocessing as mp\n",
    "from itertools import chain, islice\n",
    "import gzip\n",
    "from scipy.stats import norm"
   ]
  },
  {
   "cell_type": "markdown",
   "metadata": {},
   "source": [
    "### Comenzaremos cargandos todos los datos otorgados para el desafio:"
   ]
  },
  {
   "cell_type": "markdown",
   "metadata": {},
   "source": [
    "Para descargar los datos ingresar: https://ml-challenge.mercadolibre.com/downloads"
   ]
  },
  {
   "cell_type": "code",
   "execution_count": 2,
   "metadata": {},
   "outputs": [],
   "source": [
    "data_train = pd.read_parquet('train_data.parquet')\n",
    "data_test = pd.read_csv('test_data.csv')"
   ]
  },
  {
   "cell_type": "code",
   "execution_count": 3,
   "metadata": {},
   "outputs": [
    {
     "data": {
      "text/html": [
       "<div>\n",
       "<style scoped>\n",
       "    .dataframe tbody tr th:only-of-type {\n",
       "        vertical-align: middle;\n",
       "    }\n",
       "\n",
       "    .dataframe tbody tr th {\n",
       "        vertical-align: top;\n",
       "    }\n",
       "\n",
       "    .dataframe thead th {\n",
       "        text-align: right;\n",
       "    }\n",
       "</style>\n",
       "<table border=\"1\" class=\"dataframe\">\n",
       "  <thead>\n",
       "    <tr style=\"text-align: right;\">\n",
       "      <th></th>\n",
       "      <th>sku</th>\n",
       "      <th>date</th>\n",
       "      <th>sold_quantity</th>\n",
       "      <th>current_price</th>\n",
       "      <th>currency</th>\n",
       "      <th>listing_type</th>\n",
       "      <th>shipping_logistic_type</th>\n",
       "      <th>shipping_payment</th>\n",
       "      <th>minutes_active</th>\n",
       "    </tr>\n",
       "  </thead>\n",
       "  <tbody>\n",
       "    <tr>\n",
       "      <th>0</th>\n",
       "      <td>464801</td>\n",
       "      <td>2021-02-01</td>\n",
       "      <td>0</td>\n",
       "      <td>156.78</td>\n",
       "      <td>REA</td>\n",
       "      <td>classic</td>\n",
       "      <td>fulfillment</td>\n",
       "      <td>free_shipping</td>\n",
       "      <td>1440.0</td>\n",
       "    </tr>\n",
       "    <tr>\n",
       "      <th>1</th>\n",
       "      <td>464801</td>\n",
       "      <td>2021-02-02</td>\n",
       "      <td>0</td>\n",
       "      <td>156.78</td>\n",
       "      <td>REA</td>\n",
       "      <td>classic</td>\n",
       "      <td>fulfillment</td>\n",
       "      <td>free_shipping</td>\n",
       "      <td>1440.0</td>\n",
       "    </tr>\n",
       "    <tr>\n",
       "      <th>2</th>\n",
       "      <td>464801</td>\n",
       "      <td>2021-02-03</td>\n",
       "      <td>0</td>\n",
       "      <td>156.78</td>\n",
       "      <td>REA</td>\n",
       "      <td>classic</td>\n",
       "      <td>fulfillment</td>\n",
       "      <td>free_shipping</td>\n",
       "      <td>1440.0</td>\n",
       "    </tr>\n",
       "    <tr>\n",
       "      <th>3</th>\n",
       "      <td>464801</td>\n",
       "      <td>2021-02-04</td>\n",
       "      <td>0</td>\n",
       "      <td>156.78</td>\n",
       "      <td>REA</td>\n",
       "      <td>classic</td>\n",
       "      <td>fulfillment</td>\n",
       "      <td>free_shipping</td>\n",
       "      <td>1440.0</td>\n",
       "    </tr>\n",
       "    <tr>\n",
       "      <th>4</th>\n",
       "      <td>464801</td>\n",
       "      <td>2021-02-05</td>\n",
       "      <td>1</td>\n",
       "      <td>156.78</td>\n",
       "      <td>REA</td>\n",
       "      <td>classic</td>\n",
       "      <td>fulfillment</td>\n",
       "      <td>free_shipping</td>\n",
       "      <td>1440.0</td>\n",
       "    </tr>\n",
       "  </tbody>\n",
       "</table>\n",
       "</div>"
      ],
      "text/plain": [
       "      sku        date  sold_quantity  current_price currency listing_type  \\\n",
       "0  464801  2021-02-01              0         156.78      REA      classic   \n",
       "1  464801  2021-02-02              0         156.78      REA      classic   \n",
       "2  464801  2021-02-03              0         156.78      REA      classic   \n",
       "3  464801  2021-02-04              0         156.78      REA      classic   \n",
       "4  464801  2021-02-05              1         156.78      REA      classic   \n",
       "\n",
       "  shipping_logistic_type shipping_payment  minutes_active  \n",
       "0            fulfillment    free_shipping          1440.0  \n",
       "1            fulfillment    free_shipping          1440.0  \n",
       "2            fulfillment    free_shipping          1440.0  \n",
       "3            fulfillment    free_shipping          1440.0  \n",
       "4            fulfillment    free_shipping          1440.0  "
      ]
     },
     "execution_count": 3,
     "metadata": {},
     "output_type": "execute_result"
    }
   ],
   "source": [
    "data_train.head()"
   ]
  },
  {
   "cell_type": "code",
   "execution_count": 4,
   "metadata": {},
   "outputs": [
    {
     "data": {
      "text/html": [
       "<div>\n",
       "<style scoped>\n",
       "    .dataframe tbody tr th:only-of-type {\n",
       "        vertical-align: middle;\n",
       "    }\n",
       "\n",
       "    .dataframe tbody tr th {\n",
       "        vertical-align: top;\n",
       "    }\n",
       "\n",
       "    .dataframe thead th {\n",
       "        text-align: right;\n",
       "    }\n",
       "</style>\n",
       "<table border=\"1\" class=\"dataframe\">\n",
       "  <thead>\n",
       "    <tr style=\"text-align: right;\">\n",
       "      <th></th>\n",
       "      <th>sku</th>\n",
       "      <th>target_stock</th>\n",
       "    </tr>\n",
       "  </thead>\n",
       "  <tbody>\n",
       "    <tr>\n",
       "      <th>0</th>\n",
       "      <td>464801</td>\n",
       "      <td>3</td>\n",
       "    </tr>\n",
       "    <tr>\n",
       "      <th>1</th>\n",
       "      <td>645793</td>\n",
       "      <td>4</td>\n",
       "    </tr>\n",
       "    <tr>\n",
       "      <th>2</th>\n",
       "      <td>99516</td>\n",
       "      <td>8</td>\n",
       "    </tr>\n",
       "    <tr>\n",
       "      <th>3</th>\n",
       "      <td>538100</td>\n",
       "      <td>8</td>\n",
       "    </tr>\n",
       "    <tr>\n",
       "      <th>4</th>\n",
       "      <td>557191</td>\n",
       "      <td>10</td>\n",
       "    </tr>\n",
       "  </tbody>\n",
       "</table>\n",
       "</div>"
      ],
      "text/plain": [
       "      sku  target_stock\n",
       "0  464801             3\n",
       "1  645793             4\n",
       "2   99516             8\n",
       "3  538100             8\n",
       "4  557191            10"
      ]
     },
     "execution_count": 4,
     "metadata": {},
     "output_type": "execute_result"
    }
   ],
   "source": [
    "data_test.head()"
   ]
  },
  {
   "cell_type": "markdown",
   "metadata": {},
   "source": [
    "### Usamos una funcion auxiliar para cargar los jsonlines files"
   ]
  },
  {
   "cell_type": "code",
   "execution_count": 5,
   "metadata": {},
   "outputs": [],
   "source": [
    "def load_jsonlines(filename):\n",
    "    \n",
    "    rv = []\n",
    "    for obj in tqdm(jsonlines.open(filename)):\n",
    "        rv.append(obj)\n",
    "    return rv"
   ]
  },
  {
   "cell_type": "code",
   "execution_count": 6,
   "metadata": {},
   "outputs": [
    {
     "name": "stderr",
     "output_type": "stream",
     "text": [
      "660916it [00:26, 25097.37it/s]\n"
     ]
    }
   ],
   "source": [
    "item_metadata = load_jsonlines('items_static_metadata_full.jl')"
   ]
  },
  {
   "cell_type": "markdown",
   "metadata": {},
   "source": [
    "#### Convertimos a df y usamos los sku como index"
   ]
  },
  {
   "cell_type": "code",
   "execution_count": 7,
   "metadata": {},
   "outputs": [],
   "source": [
    "df_metadata = pd.DataFrame(item_metadata)\n",
    "df_metadata.index = df_metadata.sku\n",
    "df_metadata.drop(columns=['sku'],inplace=True)"
   ]
  },
  {
   "cell_type": "code",
   "execution_count": 8,
   "metadata": {},
   "outputs": [
    {
     "data": {
      "text/html": [
       "<div>\n",
       "<style scoped>\n",
       "    .dataframe tbody tr th:only-of-type {\n",
       "        vertical-align: middle;\n",
       "    }\n",
       "\n",
       "    .dataframe tbody tr th {\n",
       "        vertical-align: top;\n",
       "    }\n",
       "\n",
       "    .dataframe thead th {\n",
       "        text-align: right;\n",
       "    }\n",
       "</style>\n",
       "<table border=\"1\" class=\"dataframe\">\n",
       "  <thead>\n",
       "    <tr style=\"text-align: right;\">\n",
       "      <th></th>\n",
       "      <th>item_domain_id</th>\n",
       "      <th>item_id</th>\n",
       "      <th>item_title</th>\n",
       "      <th>site_id</th>\n",
       "      <th>product_id</th>\n",
       "      <th>product_family_id</th>\n",
       "    </tr>\n",
       "    <tr>\n",
       "      <th>sku</th>\n",
       "      <th></th>\n",
       "      <th></th>\n",
       "      <th></th>\n",
       "      <th></th>\n",
       "      <th></th>\n",
       "      <th></th>\n",
       "    </tr>\n",
       "  </thead>\n",
       "  <tbody>\n",
       "    <tr>\n",
       "      <th>0</th>\n",
       "      <td>MLB-SNEAKERS</td>\n",
       "      <td>492155</td>\n",
       "      <td>Tênis Masculino Olympikus Cyber Barato Promoçao</td>\n",
       "      <td>MLB</td>\n",
       "      <td>None</td>\n",
       "      <td>MLB15832732</td>\n",
       "    </tr>\n",
       "    <tr>\n",
       "      <th>1</th>\n",
       "      <td>MLB-SURFBOARD_RACKS</td>\n",
       "      <td>300279</td>\n",
       "      <td>Suporte Rack Prancha Parede C/ Regulagem Horiz...</td>\n",
       "      <td>MLB</td>\n",
       "      <td>None</td>\n",
       "      <td>None</td>\n",
       "    </tr>\n",
       "    <tr>\n",
       "      <th>2</th>\n",
       "      <td>MLM-NECKLACES</td>\n",
       "      <td>69847</td>\n",
       "      <td>5 Collares Plateados Dama Gargantilla Choker -...</td>\n",
       "      <td>MLM</td>\n",
       "      <td>None</td>\n",
       "      <td>None</td>\n",
       "    </tr>\n",
       "    <tr>\n",
       "      <th>3</th>\n",
       "      <td>MLM-RINGS</td>\n",
       "      <td>298603</td>\n",
       "      <td>Lindo Anillo De Bella Crepusculo Twilight Prom...</td>\n",
       "      <td>MLM</td>\n",
       "      <td>None</td>\n",
       "      <td>None</td>\n",
       "    </tr>\n",
       "    <tr>\n",
       "      <th>4</th>\n",
       "      <td>MLB-WEBCAMS</td>\n",
       "      <td>345949</td>\n",
       "      <td>Webcam Com Microfone Hd 720p Knup Youtube Pc V...</td>\n",
       "      <td>MLB</td>\n",
       "      <td>None</td>\n",
       "      <td>None</td>\n",
       "    </tr>\n",
       "  </tbody>\n",
       "</table>\n",
       "</div>"
      ],
      "text/plain": [
       "          item_domain_id  item_id  \\\n",
       "sku                                 \n",
       "0           MLB-SNEAKERS   492155   \n",
       "1    MLB-SURFBOARD_RACKS   300279   \n",
       "2          MLM-NECKLACES    69847   \n",
       "3              MLM-RINGS   298603   \n",
       "4            MLB-WEBCAMS   345949   \n",
       "\n",
       "                                            item_title site_id product_id  \\\n",
       "sku                                                                         \n",
       "0      Tênis Masculino Olympikus Cyber Barato Promoçao     MLB       None   \n",
       "1    Suporte Rack Prancha Parede C/ Regulagem Horiz...     MLB       None   \n",
       "2    5 Collares Plateados Dama Gargantilla Choker -...     MLM       None   \n",
       "3    Lindo Anillo De Bella Crepusculo Twilight Prom...     MLM       None   \n",
       "4    Webcam Com Microfone Hd 720p Knup Youtube Pc V...     MLB       None   \n",
       "\n",
       "    product_family_id  \n",
       "sku                    \n",
       "0         MLB15832732  \n",
       "1                None  \n",
       "2                None  \n",
       "3                None  \n",
       "4                None  "
      ]
     },
     "execution_count": 8,
     "metadata": {},
     "output_type": "execute_result"
    }
   ],
   "source": [
    "df_metadata.head()"
   ]
  },
  {
   "cell_type": "code",
   "execution_count": 9,
   "metadata": {},
   "outputs": [
    {
     "data": {
      "text/plain": [
       "item_domain_id       object\n",
       "item_id               int64\n",
       "item_title           object\n",
       "site_id              object\n",
       "product_id           object\n",
       "product_family_id    object\n",
       "dtype: object"
      ]
     },
     "execution_count": 9,
     "metadata": {},
     "output_type": "execute_result"
    }
   ],
   "source": [
    "df_metadata.dtypes"
   ]
  },
  {
   "cell_type": "code",
   "execution_count": 10,
   "metadata": {},
   "outputs": [
    {
     "data": {
      "text/plain": [
       "(660916, 6)"
      ]
     },
     "execution_count": 10,
     "metadata": {},
     "output_type": "execute_result"
    }
   ],
   "source": [
    "df_metadata.shape"
   ]
  },
  {
   "cell_type": "markdown",
   "metadata": {},
   "source": [
    "### Ahora utilizemos la metadata integrandola a nuestros dataset de entrenamiento y testeo."
   ]
  },
  {
   "cell_type": "code",
   "execution_count": 11,
   "metadata": {},
   "outputs": [],
   "source": [
    "data_train = data_train.join(df_metadata, on='sku',how='left')"
   ]
  },
  {
   "cell_type": "code",
   "execution_count": 12,
   "metadata": {},
   "outputs": [],
   "source": [
    "data_test = data_test.join(df_metadata, on='sku',how='left')"
   ]
  },
  {
   "cell_type": "code",
   "execution_count": 13,
   "metadata": {},
   "outputs": [
    {
     "data": {
      "text/html": [
       "<div>\n",
       "<style scoped>\n",
       "    .dataframe tbody tr th:only-of-type {\n",
       "        vertical-align: middle;\n",
       "    }\n",
       "\n",
       "    .dataframe tbody tr th {\n",
       "        vertical-align: top;\n",
       "    }\n",
       "\n",
       "    .dataframe thead th {\n",
       "        text-align: right;\n",
       "    }\n",
       "</style>\n",
       "<table border=\"1\" class=\"dataframe\">\n",
       "  <thead>\n",
       "    <tr style=\"text-align: right;\">\n",
       "      <th></th>\n",
       "      <th>sku</th>\n",
       "      <th>date</th>\n",
       "      <th>sold_quantity</th>\n",
       "      <th>current_price</th>\n",
       "      <th>currency</th>\n",
       "      <th>listing_type</th>\n",
       "      <th>shipping_logistic_type</th>\n",
       "      <th>shipping_payment</th>\n",
       "      <th>minutes_active</th>\n",
       "      <th>item_domain_id</th>\n",
       "      <th>item_id</th>\n",
       "      <th>item_title</th>\n",
       "      <th>site_id</th>\n",
       "      <th>product_id</th>\n",
       "      <th>product_family_id</th>\n",
       "    </tr>\n",
       "  </thead>\n",
       "  <tbody>\n",
       "    <tr>\n",
       "      <th>0</th>\n",
       "      <td>464801</td>\n",
       "      <td>2021-02-01</td>\n",
       "      <td>0</td>\n",
       "      <td>156.78</td>\n",
       "      <td>REA</td>\n",
       "      <td>classic</td>\n",
       "      <td>fulfillment</td>\n",
       "      <td>free_shipping</td>\n",
       "      <td>1440.0</td>\n",
       "      <td>MLB-NEBULIZERS</td>\n",
       "      <td>344151</td>\n",
       "      <td>Inalador E Nebulizador Infantil Nebdog Superfl...</td>\n",
       "      <td>MLB</td>\n",
       "      <td>MLB9838512</td>\n",
       "      <td>MLB9838510</td>\n",
       "    </tr>\n",
       "    <tr>\n",
       "      <th>1</th>\n",
       "      <td>464801</td>\n",
       "      <td>2021-02-02</td>\n",
       "      <td>0</td>\n",
       "      <td>156.78</td>\n",
       "      <td>REA</td>\n",
       "      <td>classic</td>\n",
       "      <td>fulfillment</td>\n",
       "      <td>free_shipping</td>\n",
       "      <td>1440.0</td>\n",
       "      <td>MLB-NEBULIZERS</td>\n",
       "      <td>344151</td>\n",
       "      <td>Inalador E Nebulizador Infantil Nebdog Superfl...</td>\n",
       "      <td>MLB</td>\n",
       "      <td>MLB9838512</td>\n",
       "      <td>MLB9838510</td>\n",
       "    </tr>\n",
       "    <tr>\n",
       "      <th>2</th>\n",
       "      <td>464801</td>\n",
       "      <td>2021-02-03</td>\n",
       "      <td>0</td>\n",
       "      <td>156.78</td>\n",
       "      <td>REA</td>\n",
       "      <td>classic</td>\n",
       "      <td>fulfillment</td>\n",
       "      <td>free_shipping</td>\n",
       "      <td>1440.0</td>\n",
       "      <td>MLB-NEBULIZERS</td>\n",
       "      <td>344151</td>\n",
       "      <td>Inalador E Nebulizador Infantil Nebdog Superfl...</td>\n",
       "      <td>MLB</td>\n",
       "      <td>MLB9838512</td>\n",
       "      <td>MLB9838510</td>\n",
       "    </tr>\n",
       "  </tbody>\n",
       "</table>\n",
       "</div>"
      ],
      "text/plain": [
       "      sku        date  sold_quantity  current_price currency listing_type  \\\n",
       "0  464801  2021-02-01              0         156.78      REA      classic   \n",
       "1  464801  2021-02-02              0         156.78      REA      classic   \n",
       "2  464801  2021-02-03              0         156.78      REA      classic   \n",
       "\n",
       "  shipping_logistic_type shipping_payment  minutes_active  item_domain_id  \\\n",
       "0            fulfillment    free_shipping          1440.0  MLB-NEBULIZERS   \n",
       "1            fulfillment    free_shipping          1440.0  MLB-NEBULIZERS   \n",
       "2            fulfillment    free_shipping          1440.0  MLB-NEBULIZERS   \n",
       "\n",
       "   item_id                                         item_title site_id  \\\n",
       "0   344151  Inalador E Nebulizador Infantil Nebdog Superfl...     MLB   \n",
       "1   344151  Inalador E Nebulizador Infantil Nebdog Superfl...     MLB   \n",
       "2   344151  Inalador E Nebulizador Infantil Nebdog Superfl...     MLB   \n",
       "\n",
       "   product_id product_family_id  \n",
       "0  MLB9838512        MLB9838510  \n",
       "1  MLB9838512        MLB9838510  \n",
       "2  MLB9838512        MLB9838510  "
      ]
     },
     "execution_count": 13,
     "metadata": {},
     "output_type": "execute_result"
    }
   ],
   "source": [
    "data_train.head(3)"
   ]
  },
  {
   "cell_type": "code",
   "execution_count": 14,
   "metadata": {},
   "outputs": [],
   "source": [
    "# maskbandm=(data_train['site_id']=='MLB') | (data_train['site_id']=='MLM')\n",
    "# maskbandm2=(data_test['site_id']=='MLB') | (data_test['site_id']=='MLM')"
   ]
  },
  {
   "cell_type": "code",
   "execution_count": 15,
   "metadata": {},
   "outputs": [],
   "source": [
    "# data_train=data_train[maskbandm]\n",
    "# data_test=data_test[maskbandm2]"
   ]
  },
  {
   "cell_type": "code",
   "execution_count": 16,
   "metadata": {},
   "outputs": [],
   "source": [
    "# data_train['site_id'].unique()"
   ]
  },
  {
   "cell_type": "code",
   "execution_count": 17,
   "metadata": {},
   "outputs": [
    {
     "data": {
      "text/html": [
       "<div>\n",
       "<style scoped>\n",
       "    .dataframe tbody tr th:only-of-type {\n",
       "        vertical-align: middle;\n",
       "    }\n",
       "\n",
       "    .dataframe tbody tr th {\n",
       "        vertical-align: top;\n",
       "    }\n",
       "\n",
       "    .dataframe thead th {\n",
       "        text-align: right;\n",
       "    }\n",
       "</style>\n",
       "<table border=\"1\" class=\"dataframe\">\n",
       "  <thead>\n",
       "    <tr style=\"text-align: right;\">\n",
       "      <th></th>\n",
       "      <th>sku</th>\n",
       "      <th>target_stock</th>\n",
       "      <th>item_domain_id</th>\n",
       "      <th>item_id</th>\n",
       "      <th>item_title</th>\n",
       "      <th>site_id</th>\n",
       "      <th>product_id</th>\n",
       "      <th>product_family_id</th>\n",
       "    </tr>\n",
       "  </thead>\n",
       "  <tbody>\n",
       "    <tr>\n",
       "      <th>0</th>\n",
       "      <td>464801</td>\n",
       "      <td>3</td>\n",
       "      <td>MLB-NEBULIZERS</td>\n",
       "      <td>344151</td>\n",
       "      <td>Inalador E Nebulizador Infantil Nebdog Superfl...</td>\n",
       "      <td>MLB</td>\n",
       "      <td>MLB9838512</td>\n",
       "      <td>MLB9838510</td>\n",
       "    </tr>\n",
       "    <tr>\n",
       "      <th>1</th>\n",
       "      <td>645793</td>\n",
       "      <td>4</td>\n",
       "      <td>MLB-NEBULIZERS</td>\n",
       "      <td>438135</td>\n",
       "      <td>Inalador Infantil, 2 Anos De Garantia, G-tech,...</td>\n",
       "      <td>MLB</td>\n",
       "      <td>None</td>\n",
       "      <td>MLB9838510</td>\n",
       "    </tr>\n",
       "    <tr>\n",
       "      <th>2</th>\n",
       "      <td>99516</td>\n",
       "      <td>8</td>\n",
       "      <td>MLB-ADHESIVE_TAPES</td>\n",
       "      <td>221252</td>\n",
       "      <td>Fita Dupla Face Preta Colar Touch Lcd 3mm Celu...</td>\n",
       "      <td>MLB</td>\n",
       "      <td>None</td>\n",
       "      <td>None</td>\n",
       "    </tr>\n",
       "  </tbody>\n",
       "</table>\n",
       "</div>"
      ],
      "text/plain": [
       "      sku  target_stock      item_domain_id  item_id  \\\n",
       "0  464801             3      MLB-NEBULIZERS   344151   \n",
       "1  645793             4      MLB-NEBULIZERS   438135   \n",
       "2   99516             8  MLB-ADHESIVE_TAPES   221252   \n",
       "\n",
       "                                          item_title site_id  product_id  \\\n",
       "0  Inalador E Nebulizador Infantil Nebdog Superfl...     MLB  MLB9838512   \n",
       "1  Inalador Infantil, 2 Anos De Garantia, G-tech,...     MLB        None   \n",
       "2  Fita Dupla Face Preta Colar Touch Lcd 3mm Celu...     MLB        None   \n",
       "\n",
       "  product_family_id  \n",
       "0        MLB9838510  \n",
       "1        MLB9838510  \n",
       "2              None  "
      ]
     },
     "execution_count": 17,
     "metadata": {},
     "output_type": "execute_result"
    }
   ],
   "source": [
    "data_test.head(3)"
   ]
  },
  {
   "cell_type": "markdown",
   "metadata": {},
   "source": [
    "### Exploremos las columnas que tenemos:"
   ]
  },
  {
   "cell_type": "code",
   "execution_count": 18,
   "metadata": {},
   "outputs": [
    {
     "name": "stdout",
     "output_type": "stream",
     "text": [
      "sku\n",
      "date\n",
      "sold_quantity\n",
      "current_price\n",
      "currency\n",
      "listing_type\n",
      "shipping_logistic_type\n",
      "shipping_payment\n",
      "minutes_active\n",
      "item_domain_id\n",
      "item_id\n",
      "item_title\n",
      "site_id\n",
      "product_id\n",
      "product_family_id\n"
     ]
    }
   ],
   "source": [
    "for col in data_train.columns:\n",
    "    print(col)"
   ]
  },
  {
   "cell_type": "markdown",
   "metadata": {},
   "source": [
    "### Veamos algunas de las estadisticas por columna:"
   ]
  },
  {
   "cell_type": "code",
   "execution_count": 19,
   "metadata": {},
   "outputs": [],
   "source": [
    "pd.set_option('display.float_format', lambda x: '%.3f' % x)"
   ]
  },
  {
   "cell_type": "code",
   "execution_count": 20,
   "metadata": {},
   "outputs": [],
   "source": [
    "def describe_cols(cols,df):\n",
    "    \n",
    "    for col in cols: \n",
    "        print('\\t COLUMN: ', col)\n",
    "        print('\\t type: ', df[col].dtype,'\\n')\n",
    "        print(df[col].describe(),'\\n')"
   ]
  },
  {
   "cell_type": "code",
   "execution_count": 21,
   "metadata": {},
   "outputs": [],
   "source": [
    "columns_to_describe = ['date','listing_type','current_price']"
   ]
  },
  {
   "cell_type": "code",
   "execution_count": 22,
   "metadata": {},
   "outputs": [
    {
     "name": "stdout",
     "output_type": "stream",
     "text": [
      "\t COLUMN:  date\n",
      "\t type:  object \n",
      "\n",
      "count       37660279\n",
      "unique            59\n",
      "top       2021-03-31\n",
      "freq          660916\n",
      "Name: date, dtype: object \n",
      "\n",
      "\t COLUMN:  listing_type\n",
      "\t type:  object \n",
      "\n",
      "count     37660279\n",
      "unique           2\n",
      "top        classic\n",
      "freq      18860849\n",
      "Name: listing_type, dtype: object \n",
      "\n",
      "\t COLUMN:  current_price\n",
      "\t type:  float64 \n",
      "\n",
      "count    37660279.000\n",
      "mean         2357.780\n",
      "std       1263914.361\n",
      "min             0.870\n",
      "25%            48.700\n",
      "50%           119.000\n",
      "75%           298.590\n",
      "max     999999999.000\n",
      "Name: current_price, dtype: float64 \n",
      "\n"
     ]
    }
   ],
   "source": [
    "describe_cols(columns_to_describe,data_train)"
   ]
  },
  {
   "cell_type": "markdown",
   "metadata": {},
   "source": [
    "### Veamos las ventas agrupadas por día para los diferentes sitios (Mexico, Argentina y Brasil)"
   ]
  },
  {
   "cell_type": "code",
   "execution_count": 23,
   "metadata": {},
   "outputs": [
    {
     "data": {
      "text/html": [
       "<div>\n",
       "<style scoped>\n",
       "    .dataframe tbody tr th:only-of-type {\n",
       "        vertical-align: middle;\n",
       "    }\n",
       "\n",
       "    .dataframe tbody tr th {\n",
       "        vertical-align: top;\n",
       "    }\n",
       "\n",
       "    .dataframe thead th {\n",
       "        text-align: right;\n",
       "    }\n",
       "</style>\n",
       "<table border=\"1\" class=\"dataframe\">\n",
       "  <thead>\n",
       "    <tr style=\"text-align: right;\">\n",
       "      <th></th>\n",
       "      <th>site_id</th>\n",
       "      <th>date</th>\n",
       "      <th>sold_quantity</th>\n",
       "    </tr>\n",
       "  </thead>\n",
       "  <tbody>\n",
       "    <tr>\n",
       "      <th>0</th>\n",
       "      <td>MLA</td>\n",
       "      <td>2021-02-01</td>\n",
       "      <td>60141</td>\n",
       "    </tr>\n",
       "    <tr>\n",
       "      <th>1</th>\n",
       "      <td>MLA</td>\n",
       "      <td>2021-02-02</td>\n",
       "      <td>59987</td>\n",
       "    </tr>\n",
       "    <tr>\n",
       "      <th>2</th>\n",
       "      <td>MLA</td>\n",
       "      <td>2021-02-03</td>\n",
       "      <td>85528</td>\n",
       "    </tr>\n",
       "    <tr>\n",
       "      <th>3</th>\n",
       "      <td>MLA</td>\n",
       "      <td>2021-02-04</td>\n",
       "      <td>48553</td>\n",
       "    </tr>\n",
       "    <tr>\n",
       "      <th>4</th>\n",
       "      <td>MLA</td>\n",
       "      <td>2021-02-05</td>\n",
       "      <td>38558</td>\n",
       "    </tr>\n",
       "  </tbody>\n",
       "</table>\n",
       "</div>"
      ],
      "text/plain": [
       "  site_id        date  sold_quantity\n",
       "0     MLA  2021-02-01          60141\n",
       "1     MLA  2021-02-02          59987\n",
       "2     MLA  2021-02-03          85528\n",
       "3     MLA  2021-02-04          48553\n",
       "4     MLA  2021-02-05          38558"
      ]
     },
     "execution_count": 23,
     "metadata": {},
     "output_type": "execute_result"
    }
   ],
   "source": [
    "summary_site = data_train.groupby(['site_id','date']).sold_quantity.sum().reset_index()\n",
    "summary_site.head()"
   ]
  },
  {
   "cell_type": "code",
   "execution_count": 24,
   "metadata": {},
   "outputs": [],
   "source": [
    "def plot_time_series(summary_data,time_var,series,level):\n",
    "    \n",
    "    plt.figure(figsize=(15, 4))\n",
    "    plt.title(f'{series} time series grouped by {level}')\n",
    "    sns.lineplot(data=summary_data, \n",
    "                 x=time_var,y=series,hue=level)\n",
    "    plt.xticks(rotation=45)\n",
    "    plt.show()\n",
    "    "
   ]
  },
  {
   "cell_type": "code",
   "execution_count": 25,
   "metadata": {},
   "outputs": [
    {
     "data": {
      "image/png": "[encoded data removed]",
      "text/plain": [
       "<Figure size 1080x288 with 1 Axes>"
      ]
     },
     "metadata": {
      "needs_background": "light"
     },
     "output_type": "display_data"
    }
   ],
   "source": [
    "plot_time_series(summary_site, time_var='date',series='sold_quantity',level='site_id')"
   ]
  },
  {
   "cell_type": "markdown",
   "metadata": {},
   "source": [
    "#### Se puede observar una estacionalidad "
   ]
  },
  {
   "cell_type": "code",
   "execution_count": 26,
   "metadata": {},
   "outputs": [
    {
     "name": "stderr",
     "output_type": "stream",
     "text": [
      "<ipython-input-26-9ec1db2efa79>:2: FutureWarning: Series.dt.weekofyear and Series.dt.week have been deprecated.  Please use Series.dt.isocalendar().week instead.\n",
      "  data_train['week'] = pd.to_datetime(data_train.date).dt.week\n"
     ]
    }
   ],
   "source": [
    "# Definamos una nueva variable con el numero de semana\n",
    "data_train['week'] = pd.to_datetime(data_train.date).dt.week"
   ]
  },
  {
   "cell_type": "code",
   "execution_count": 27,
   "metadata": {},
   "outputs": [],
   "source": [
    "# Juntando la info\n",
    "summary_site_w = data_train.groupby(['site_id','week']).sold_quantity.sum().reset_index()"
   ]
  },
  {
   "cell_type": "code",
   "execution_count": 28,
   "metadata": {},
   "outputs": [
    {
     "data": {
      "image/png": "[encoded data removed]",
      "text/plain": [
       "<Figure size 1080x288 with 1 Axes>"
      ]
     },
     "metadata": {
      "needs_background": "light"
     },
     "output_type": "display_data"
    }
   ],
   "source": [
    "# La ploteamos\n",
    "plot_time_series(summary_site_w,time_var='week',series='sold_quantity',level='site_id')"
   ]
  },
  {
   "cell_type": "markdown",
   "metadata": {},
   "source": [
    "### Veamos cuales son las categorias que tienen mas cantidad de articulos vendidos, para los diferentes sitios."
   ]
  },
  {
   "cell_type": "code",
   "execution_count": 29,
   "metadata": {},
   "outputs": [],
   "source": [
    "def get_top_categories(df, categorical_var, site_id, by, N=10):\n",
    "    \n",
    "    grand_total = df[df.site_id == site_id][by].sum()\n",
    "  \n",
    "    top_cat_df = (df[df.site_id == site_id]\n",
    "         .groupby(['site_id',categorical_var])[by]\n",
    "         .sum()\n",
    "         .sort_values(ascending=False)\n",
    "         .head(N))\n",
    "    \n",
    "    top_cat_df = top_cat_df.reset_index()\n",
    "    top_cat_df[f'relative_{by}'] = top_cat_df[by]/grand_total \n",
    "    \n",
    "    return(top_cat_df[[categorical_var,by,f'relative_{by}']])"
   ]
  },
  {
   "cell_type": "code",
   "execution_count": 30,
   "metadata": {},
   "outputs": [
    {
     "data": {
      "text/plain": [
       "array(['MLB', 'MLM', 'MLA'], dtype=object)"
      ]
     },
     "execution_count": 30,
     "metadata": {},
     "output_type": "execute_result"
    }
   ],
   "source": [
    "data_train['site_id'].unique()"
   ]
  },
  {
   "cell_type": "code",
   "execution_count": 31,
   "metadata": {},
   "outputs": [
    {
     "data": {
      "text/html": [
       "<div>\n",
       "<style scoped>\n",
       "    .dataframe tbody tr th:only-of-type {\n",
       "        vertical-align: middle;\n",
       "    }\n",
       "\n",
       "    .dataframe tbody tr th {\n",
       "        vertical-align: top;\n",
       "    }\n",
       "\n",
       "    .dataframe thead th {\n",
       "        text-align: right;\n",
       "    }\n",
       "</style>\n",
       "<table border=\"1\" class=\"dataframe\">\n",
       "  <thead>\n",
       "    <tr style=\"text-align: right;\">\n",
       "      <th></th>\n",
       "      <th>item_domain_id</th>\n",
       "      <th>sold_quantity</th>\n",
       "      <th>relative_sold_quantity</th>\n",
       "    </tr>\n",
       "  </thead>\n",
       "  <tbody>\n",
       "    <tr>\n",
       "      <th>0</th>\n",
       "      <td>MLM-SURGICAL_MASKS</td>\n",
       "      <td>2902357</td>\n",
       "      <td>0.171</td>\n",
       "    </tr>\n",
       "    <tr>\n",
       "      <th>1</th>\n",
       "      <td>MLM-HEADPHONES</td>\n",
       "      <td>483957</td>\n",
       "      <td>0.029</td>\n",
       "    </tr>\n",
       "    <tr>\n",
       "      <th>2</th>\n",
       "      <td>MLM-CELLPHONE_COVERS</td>\n",
       "      <td>284810</td>\n",
       "      <td>0.017</td>\n",
       "    </tr>\n",
       "    <tr>\n",
       "      <th>3</th>\n",
       "      <td>MLM-OXIMETERS</td>\n",
       "      <td>224834</td>\n",
       "      <td>0.013</td>\n",
       "    </tr>\n",
       "    <tr>\n",
       "      <th>4</th>\n",
       "      <td>MLM-FACIAL_SKIN_CARE_PRODUCTS</td>\n",
       "      <td>220829</td>\n",
       "      <td>0.013</td>\n",
       "    </tr>\n",
       "    <tr>\n",
       "      <th>5</th>\n",
       "      <td>MLM-SAFETY_FACE_SHIELD_VISORS</td>\n",
       "      <td>166667</td>\n",
       "      <td>0.010</td>\n",
       "    </tr>\n",
       "    <tr>\n",
       "      <th>6</th>\n",
       "      <td>MLM-CELLPHONES</td>\n",
       "      <td>151931</td>\n",
       "      <td>0.009</td>\n",
       "    </tr>\n",
       "    <tr>\n",
       "      <th>7</th>\n",
       "      <td>MLM-SMARTWATCHES</td>\n",
       "      <td>148757</td>\n",
       "      <td>0.009</td>\n",
       "    </tr>\n",
       "    <tr>\n",
       "      <th>8</th>\n",
       "      <td>MLM-DATA_CABLES_AND_ADAPTERS</td>\n",
       "      <td>139243</td>\n",
       "      <td>0.008</td>\n",
       "    </tr>\n",
       "    <tr>\n",
       "      <th>9</th>\n",
       "      <td>MLM-WALL_AND_CEILING_LIGHTS</td>\n",
       "      <td>137134</td>\n",
       "      <td>0.008</td>\n",
       "    </tr>\n",
       "  </tbody>\n",
       "</table>\n",
       "</div>"
      ],
      "text/plain": [
       "                  item_domain_id  sold_quantity  relative_sold_quantity\n",
       "0             MLM-SURGICAL_MASKS        2902357                   0.171\n",
       "1                 MLM-HEADPHONES         483957                   0.029\n",
       "2           MLM-CELLPHONE_COVERS         284810                   0.017\n",
       "3                  MLM-OXIMETERS         224834                   0.013\n",
       "4  MLM-FACIAL_SKIN_CARE_PRODUCTS         220829                   0.013\n",
       "5  MLM-SAFETY_FACE_SHIELD_VISORS         166667                   0.010\n",
       "6                 MLM-CELLPHONES         151931                   0.009\n",
       "7               MLM-SMARTWATCHES         148757                   0.009\n",
       "8   MLM-DATA_CABLES_AND_ADAPTERS         139243                   0.008\n",
       "9    MLM-WALL_AND_CEILING_LIGHTS         137134                   0.008"
      ]
     },
     "execution_count": 31,
     "metadata": {},
     "output_type": "execute_result"
    }
   ],
   "source": [
    "top_domains_MLM = get_top_categories(data_train, \n",
    "                                     categorical_var= 'item_domain_id',\n",
    "                                     site_id='MLM', \n",
    "                                     by='sold_quantity', \n",
    "                                     N=10)\n",
    "top_domains_MLM"
   ]
  },
  {
   "cell_type": "code",
   "execution_count": null,
   "metadata": {},
   "outputs": [],
   "source": [
    "top_domains_MLB = get_top_categories(data_train, \n",
    "                                     categorical_var= 'item_domain_id',\n",
    "                                     site_id='MLB', \n",
    "                                     by='sold_quantity', \n",
    "                                     N=10)\n",
    "top_domains_MLB"
   ]
  },
  {
   "cell_type": "code",
   "execution_count": null,
   "metadata": {},
   "outputs": [],
   "source": [
    "top_domains_MLA = get_top_categories(data_train, \n",
    "                                     categorical_var= 'item_domain_id',\n",
    "                                     site_id='MLA', \n",
    "                                     by='sold_quantity', \n",
    "                                     N=10)\n",
    "top_domains_MLA"
   ]
  },
  {
   "cell_type": "code",
   "execution_count": null,
   "metadata": {},
   "outputs": [],
   "source": [
    "# Veamos si hay solapamiento entre los skus de entrenamiento y de testeo, esto es importante para saber \n",
    "# que vamos a poder una respuesta a la solicitud de mercado libre.\n",
    "import matplotlib.pyplot as plt\n",
    "from matplotlib_venn import venn2"
   ]
  },
  {
   "cell_type": "code",
   "execution_count": null,
   "metadata": {},
   "outputs": [],
   "source": [
    "def asses_overlap(df_train, df_test, key):\n",
    "    \n",
    "    figure, axes = plt.subplots(1, len(df_train.site_id.unique()),figsize=(16, 6))\n",
    "\n",
    "    for i,site in enumerate(df_train.site_id.unique()):\n",
    "\n",
    "        unique_train = df_train[df_train.site_id == site][key].unique()\n",
    "        unique_test = df_test[df_test.site_id == site][key].unique()\n",
    "\n",
    "        v = venn2(subsets=[set(unique_train),set(unique_test)],\n",
    "                  set_labels = (f\"Train \\n ({len(unique_train)})\", \n",
    "                        f\"Test \\n ({len(unique_test)}) \"),\n",
    "                  ax=axes[i],\n",
    "                  set_colors=('purple', 'skyblue'), alpha = 0.6)\n",
    "        axes[i].set_title(site)\n",
    "    plt.show()\n",
    "    "
   ]
  },
  {
   "cell_type": "code",
   "execution_count": null,
   "metadata": {},
   "outputs": [],
   "source": [
    "asses_overlap(data_train, data_test, key='sku')"
   ]
  },
  {
   "cell_type": "markdown",
   "metadata": {},
   "source": [
    "### Por suerte todos los sku estan contenidos."
   ]
  },
  {
   "cell_type": "markdown",
   "metadata": {},
   "source": [
    "### Plotemos alguna articulo en funcion de su precio y sus ventas"
   ]
  },
  {
   "cell_type": "code",
   "execution_count": null,
   "metadata": {},
   "outputs": [],
   "source": [
    "site_id = 'MLA'\n",
    "item_domain_id = 'MLA-COOKIES'\n",
    "subset_data = data_train[(data_train.site_id == site_id)& (data_train.item_domain_id == item_domain_id)]"
   ]
  },
  {
   "cell_type": "code",
   "execution_count": null,
   "metadata": {},
   "outputs": [],
   "source": [
    "subset_data['current_price'].hist(bins=100)"
   ]
  },
  {
   "cell_type": "markdown",
   "metadata": {},
   "source": [
    "### Veamos la variable categorica shipping_logistic_type"
   ]
  },
  {
   "cell_type": "code",
   "execution_count": null,
   "metadata": {},
   "outputs": [],
   "source": [
    "subset_data['shipping_logistic_type'].value_counts(normalize=True).plot.bar()"
   ]
  },
  {
   "cell_type": "markdown",
   "metadata": {},
   "source": [
    "Estudiemos la relacion entre la cantidad vendida y los precios para algun item y su relacion con los minutos que\n",
    "la publicacion estuvo activa"
   ]
  },
  {
   "cell_type": "code",
   "execution_count": null,
   "metadata": {},
   "outputs": [],
   "source": [
    "site_id = 'MLA'\n",
    "item_domain_id = 'MLA-CELLPHONES'\n",
    "subset_data = data_train[(data_train.site_id == site_id)& (data_train.item_domain_id == item_domain_id)]"
   ]
  },
  {
   "cell_type": "code",
   "execution_count": null,
   "metadata": {},
   "outputs": [],
   "source": [
    "def plot_bivariate(data,level, x, y, agg_x, agg_y):\n",
    "    \n",
    "    sns.scatterplot(data=data.groupby(level).agg(\n",
    "        {x: agg_x,y: agg_y}),\n",
    "                    x=x,y=y)\n",
    "    plt.show()"
   ]
  },
  {
   "cell_type": "code",
   "execution_count": null,
   "metadata": {},
   "outputs": [],
   "source": [
    "plot_bivariate(subset_data,\n",
    "               x='current_price',\n",
    "               level='sku',\n",
    "               y='sold_quantity', \n",
    "               agg_x=np.mean, \n",
    "               agg_y=np.sum)"
   ]
  },
  {
   "cell_type": "code",
   "execution_count": null,
   "metadata": {},
   "outputs": [],
   "source": [
    "plot_bivariate(subset_data,\n",
    "               level='sku',\n",
    "               x='minutes_active',\n",
    "               y='sold_quantity', \n",
    "               agg_x=np.mean, \n",
    "               agg_y=np.sum)"
   ]
  },
  {
   "cell_type": "markdown",
   "metadata": {},
   "source": [
    "### Ahora veamos un poco la distribucion que tiene el target stock "
   ]
  },
  {
   "cell_type": "code",
   "execution_count": null,
   "metadata": {},
   "outputs": [],
   "source": [
    "figure, axes = plt.subplots(1, 2,figsize=(14, 6))\n",
    "figure.suptitle('Distribution of target stock')\n",
    "sns.histplot(x=data_test.target_stock,bins=5000, kde=False, ax=axes[0])\n",
    "axes[0].set_xlim(0,80)\n",
    "sns.boxplot(x=data_test.target_stock, ax=axes[1])\n",
    "axes[1].set_xlim(0,80)\n",
    "plt.show()"
   ]
  },
  {
   "cell_type": "markdown",
   "metadata": {},
   "source": [
    "### Cosntruyamos el conjunto de validacion"
   ]
  },
  {
   "cell_type": "code",
   "execution_count": null,
   "metadata": {},
   "outputs": [],
   "source": [
    "data_train.date.min(), data_train.date.max()"
   ]
  },
  {
   "cell_type": "code",
   "execution_count": null,
   "metadata": {},
   "outputs": [],
   "source": [
    "split_date = (pd.to_datetime(data_train.date).max()-timedelta(days=30)).date()\n",
    "print(split_date)"
   ]
  },
  {
   "cell_type": "code",
   "execution_count": null,
   "metadata": {},
   "outputs": [],
   "source": [
    "# Separemos los ultimos 30 días para validación\n",
    "data_val = data_train.loc[(data_train.date > str(split_date))]\n",
    "\n",
    "#y usemos el resto para entrenamiento\n",
    "data_train = data_train.loc[(data_train.date <= str(split_date))]"
   ]
  },
  {
   "cell_type": "code",
   "execution_count": null,
   "metadata": {},
   "outputs": [],
   "source": [
    "data_train.head(2)"
   ]
  },
  {
   "cell_type": "code",
   "execution_count": null,
   "metadata": {},
   "outputs": [],
   "source": [
    "data_train.shape"
   ]
  },
  {
   "cell_type": "code",
   "execution_count": null,
   "metadata": {},
   "outputs": [],
   "source": [
    "data_val.head(2)"
   ]
  },
  {
   "cell_type": "markdown",
   "metadata": {},
   "source": [
    "##### Ahora vamos a construir el conjunto de datos de validación calculando el stock objetivo y los días de inventario."
   ]
  },
  {
   "cell_type": "code",
   "execution_count": null,
   "metadata": {},
   "outputs": [],
   "source": [
    "def create_validation_set(dataset):\n",
    "    np.random.seed(42)\n",
    "    print('Sorting records...')\n",
    "    temp_pd = dataset.loc[:, ['sku','date','sold_quantity']].sort_values(['sku','date'])\n",
    "\n",
    "    print('Grouping quantity...')\n",
    "    temp_dict = temp_pd.groupby('sku').agg({'sold_quantity':lambda x: [i for i in x]})['sold_quantity'].to_dict()\n",
    "\n",
    "    result = []\n",
    "    for idx, list_quantity in tqdm(temp_dict.items(), desc='Making targets...'):\n",
    "        cumsum = np.array(list_quantity).cumsum()\n",
    "        stock_target = 0\n",
    "        if cumsum[-1] > 0 and len(cumsum)==30:\n",
    "            \n",
    "            #choose a random target different from 0\n",
    "            while stock_target == 0:\n",
    "                stock_target = np.random.choice(cumsum)\n",
    "                \n",
    "            #get the first day with this amounnt of sales\n",
    "            day_to_stockout = np.argwhere(cumsum==stock_target).min() + 1\n",
    "            \n",
    "            #add to a list\n",
    "            result.append({'sku':idx, 'target_stock':stock_target, 'inventory_days':day_to_stockout})\n",
    "    return result\n",
    "\n",
    "#generate target for the 30 days of validation\n",
    "val_dataset = create_validation_set(data_val)"
   ]
  },
  {
   "cell_type": "code",
   "execution_count": null,
   "metadata": {},
   "outputs": [],
   "source": [
    "val_dataset[0:4]"
   ]
  },
  {
   "cell_type": "code",
   "execution_count": null,
   "metadata": {},
   "outputs": [],
   "source": [
    "y_true_val = [x['inventory_days'] for x in val_dataset]"
   ]
  },
  {
   "cell_type": "code",
   "execution_count": null,
   "metadata": {},
   "outputs": [],
   "source": [
    "y_true_val[0:5]"
   ]
  },
  {
   "cell_type": "markdown",
   "metadata": {},
   "source": [
    "# El primer modelo que utilizaremos como base es considerar una distribucion uniforme. "
   ]
  },
  {
   "cell_type": "markdown",
   "metadata": {},
   "source": [
    "Queremos predecir 30 dias futuros."
   ]
  },
  {
   "cell_type": "code",
   "execution_count": null,
   "metadata": {},
   "outputs": [],
   "source": [
    "days_to_predict = 30"
   ]
  },
  {
   "cell_type": "code",
   "execution_count": null,
   "metadata": {},
   "outputs": [],
   "source": [
    "y_pred_uniform = [(np.ones(days_to_predict)/days_to_predict).round(5).tolist()] * len(val_dataset)"
   ]
  },
  {
   "cell_type": "code",
   "execution_count": null,
   "metadata": {},
   "outputs": [],
   "source": [
    "(np.ones(days_to_predict)/days_to_predict).round(5)"
   ]
  },
  {
   "cell_type": "code",
   "execution_count": null,
   "metadata": {},
   "outputs": [],
   "source": [
    "len(y_pred_uniform)"
   ]
  },
  {
   "cell_type": "code",
   "execution_count": null,
   "metadata": {},
   "outputs": [],
   "source": [
    "uniform_df=pd.DataFrame(y_pred_uniform, columns=range(1,days_to_predict+1)).head()"
   ]
  },
  {
   "cell_type": "code",
   "execution_count": null,
   "metadata": {},
   "outputs": [],
   "source": [
    "uniform_df"
   ]
  },
  {
   "cell_type": "markdown",
   "metadata": {},
   "source": [
    "##### Cómo es la distribución de probabilidad de inventory_days para una observación aleatoria  ?"
   ]
  },
  {
   "cell_type": "code",
   "execution_count": null,
   "metadata": {},
   "outputs": [],
   "source": [
    "sku, stock,  days = pd.DataFrame(val_dataset)[['sku','target_stock','inventory_days']].sample(1).to_dict(orient='records')[0].values()\n",
    "plt.ylim([0,0.05])\n",
    "plt.axvline(days, color='r')\n",
    "plt.title(f'sku:{sku}, target_stock:{stock},target days: {days}')\n",
    "plt.bar(range(1,31), np.ones(days_to_predict)/days_to_predict, color='green')\n",
    "\n",
    "plt.xlabel('Dias')\n",
    "plt.ylabel('Probabilidad')\n",
    "plt.legend(['Target days', 'Dist. Uniforme'])\n",
    "plt.show()"
   ]
  },
  {
   "cell_type": "markdown",
   "metadata": {},
   "source": [
    "Por lo tanto para este ejemplo vemos que son 7 días los que necesitamos para romper stock."
   ]
  },
  {
   "cell_type": "markdown",
   "metadata": {},
   "source": [
    "### Ahora veamos la puntuación para la predicción de este modelo utilizando la metrica otorgada por mercado libre."
   ]
  },
  {
   "cell_type": "code",
   "execution_count": null,
   "metadata": {},
   "outputs": [],
   "source": [
    "#Import library\n",
    "from IPython.display import Image\n",
    "# Load image from local storage\n",
    "Image(filename = \"score1.png\", width = 300, height = 300)"
   ]
  },
  {
   "cell_type": "code",
   "execution_count": null,
   "metadata": {},
   "outputs": [],
   "source": [
    "Image(filename = \"score2.png\", width = 300, height = 300)"
   ]
  },
  {
   "cell_type": "code",
   "execution_count": null,
   "metadata": {},
   "outputs": [],
   "source": [
    "def ranked_probability_score(y_true, y_pred):\n",
    "    \"\"\"\n",
    "    Input\n",
    "        y_true: np.array of shape 30. \n",
    "        y_pred: np.array of shape 30. \n",
    "    \"\"\"\n",
    "    return ((y_true.cumsum(axis=1) - y_pred.cumsum(axis=1))**2).sum(axis=1).mean()\n",
    "\n",
    "def scoring_function(y_true, y_pred):\n",
    "    \"\"\"\n",
    "    Input\n",
    "        y_true: List of Ints of shape Nx1. Contain the target_stock\n",
    "        y_pred: List of float of shape Nx30. Contain the prob for each day\n",
    "    \"\"\"\n",
    "    y_true = np.array(y_true)\n",
    "    y_pred = np.array(y_pred)\n",
    "    y_true_one_hot = np.zeros_like(y_pred, dtype=np.float)\n",
    "    y_true_one_hot[range(len(y_true)), y_true-1] = 1\n",
    "    return ranked_probability_score(y_true_one_hot, y_pred)"
   ]
  },
  {
   "cell_type": "code",
   "execution_count": null,
   "metadata": {},
   "outputs": [],
   "source": [
    "uniform_score = scoring_function(y_true_val, y_pred_uniform)\n",
    "print('RPS para el modelo: ',uniform_score)"
   ]
  },
  {
   "cell_type": "code",
   "execution_count": null,
   "metadata": {},
   "outputs": [],
   "source": [
    "len(y_true_val)\n"
   ]
  },
  {
   "cell_type": "markdown",
   "metadata": {},
   "source": [
    "# Modelo deterministico/Normal para dias de inventario"
   ]
  },
  {
   "cell_type": "code",
   "execution_count": null,
   "metadata": {},
   "outputs": [],
   "source": [
    "def calcular_probas(data, rango_analisis, dia_final, rango_estimacion):\n",
    "    \n",
    "    # tomar una ventana de rango_dias para atras desde dia_final para calcular la media y desvio de ventas por sku\n",
    "    mean_sales = data.loc[:, data.columns[dia_final - rango_analisis: dia_final]].mean(axis = 1)\n",
    "    mean_days_to_break_stock = data.loc[:, 'target_stock'] / mean_sales\n",
    "    std_days_to_break_stock = data.loc[:, data.columns[dia_final - rango_analisis: dia_final]].std(axis = 1)\n",
    "    std_days_to_break_stock = std_days_to_break_stock / mean_sales\n",
    "    \n",
    "    # acomodar valores con errores\n",
    "    mean_days_to_break_stock.replace(to_replace = np.inf, value = 1000, inplace = True)\n",
    "    std_days_to_break_stock.replace(to_replace = np.inf, value = 10, inplace = True)\n",
    "    mean_days_to_break_stock.replace(to_replace = np.nan, value = 0, inplace = True)\n",
    "    std_days_to_break_stock.replace(to_replace = np.nan, value = 1, inplace = True)\n",
    "    \n",
    "    # crear variables de salida\n",
    "    y_pred = pd.DataFrame(0, index = data.index, columns = range(0, rango_estimacion))\n",
    "    y_pred_accum = pd.DataFrame(0, index = data.index, columns = range(0, rango_estimacion))\n",
    "    \n",
    "    # correr ciclo y calcular probabilidades con dist normal para cada día\n",
    "    for i in y_pred.columns.tolist():\n",
    "        if i == 0:\n",
    "            probs = norm.cdf((np.full((data.shape[0]), i) - mean_sales) / std_days_to_break_stock)\n",
    "            y_pred.loc[:, i] = np.around(probs, decimals = 3)\n",
    "            y_pred_accum.loc[:, i] = np.around(probs, decimals = 3)\n",
    "        else:\n",
    "            probs = norm.cdf((np.full((data.shape[0]), i) - mean_sales) / std_days_to_break_stock)\n",
    "            probs_ant = norm.cdf((np.full((data.shape[0]), i - 1) - mean_sales) / std_days_to_break_stock)\n",
    "            delta_probs = probs - probs_ant\n",
    "            delta_probs = np.around(delta_probs, decimals = 3)\n",
    "            y_pred.loc[:, i] = delta_probs\n",
    "            y_pred_accum.loc[:, i] = np.around(probs, decimals = 3)\n",
    "    \n",
    "    return y_pred, y_pred_accum\n"
   ]
  },
  {
   "cell_type": "code",
   "execution_count": null,
   "metadata": {},
   "outputs": [],
   "source": [
    "data_ventas_train = pd.pivot_table(data_train, values = 'sold_quantity', index = 'sku', columns = 'date')\n",
    "data_ventas_train = data_ventas_train.fillna(value = 0)\n",
    "data_ventas_train"
   ]
  },
  {
   "cell_type": "code",
   "execution_count": null,
   "metadata": {},
   "outputs": [],
   "source": [
    "data_ventas_val = pd.pivot_table(data_val, values = 'sold_quantity', index = 'sku', columns = 'date')\n",
    "data_ventas_val = data_ventas_val.fillna(value = 0)\n",
    "data_ventas_val"
   ]
  },
  {
   "cell_type": "code",
   "execution_count": null,
   "metadata": {},
   "outputs": [],
   "source": [
    "data_ventas_train['target_stock'] = data_ventas_train.loc[:, data_ventas_train.columns < '2021-03-01'].sum(axis = 1)\n",
    "data_ventas_train"
   ]
  },
  {
   "cell_type": "code",
   "execution_count": null,
   "metadata": {},
   "outputs": [],
   "source": [
    "rango_analisis = 30\n",
    "dia_final = 59\n",
    "rango_estimacion = 30\n",
    "test_y_pred, test_y_pred_accum = calcular_probas(data_ventas_train, rango_analisis, dia_final, rango_estimacion)"
   ]
  },
  {
   "cell_type": "code",
   "execution_count": null,
   "metadata": {},
   "outputs": [],
   "source": [
    "test_y_pred"
   ]
  },
  {
   "cell_type": "code",
   "execution_count": null,
   "metadata": {},
   "outputs": [],
   "source": [
    "test_y_pred_accum"
   ]
  },
  {
   "cell_type": "code",
   "execution_count": null,
   "metadata": {},
   "outputs": [],
   "source": [
    "row = test_y_pred_accum.iloc[5]"
   ]
  },
  {
   "cell_type": "code",
   "execution_count": null,
   "metadata": {},
   "outputs": [],
   "source": [
    "row.plot(kind='bar')\n",
    "plt.show()"
   ]
  },
  {
   "cell_type": "code",
   "execution_count": null,
   "metadata": {},
   "outputs": [],
   "source": [
    "normal_score = scoring_function(y_true_val, test_y_pred_accum)\n",
    "print('RPS para el modelo: ', normal_score)"
   ]
  },
  {
   "cell_type": "code",
   "execution_count": null,
   "metadata": {},
   "outputs": [],
   "source": []
  },
  {
   "cell_type": "code",
   "execution_count": null,
   "metadata": {},
   "outputs": [],
   "source": [
    "import math"
   ]
  },
  {
   "cell_type": "code",
   "execution_count": null,
   "metadata": {},
   "outputs": [],
   "source": [
    "sinmodellist=[0.00219734, 0.00439406, 0.00658957, 0.00878324, 0.0109745, 0.0131627, \n",
    "0.0153472, 0.0175275, 0.0197029, 0.0218728, 0.0240366, 0.0261938, \n",
    "0.0283437, 0.0304857, 0.0326193, 0.0347438, 0.0368586, 0.0389632, \n",
    "0.041057, 0.0431394, 0.0452098, 0.0472676, 0.0493124, 0.0513434, \n",
    "0.0533601, 0.055362, 0.0573486, 0.0593192, 0.0612734, 0.0632105]"
   ]
  },
  {
   "cell_type": "code",
   "execution_count": null,
   "metadata": {},
   "outputs": [],
   "source": [
    "sum(sinmodellist)"
   ]
  },
  {
   "cell_type": "code",
   "execution_count": null,
   "metadata": {},
   "outputs": [],
   "source": [
    "len(sinmodellist)"
   ]
  },
  {
   "cell_type": "markdown",
   "metadata": {},
   "source": [
    "## Modelo de utilizando la función seno."
   ]
  },
  {
   "cell_type": "code",
   "execution_count": null,
   "metadata": {},
   "outputs": [],
   "source": [
    "days_to_predict = 30"
   ]
  },
  {
   "cell_type": "code",
   "execution_count": null,
   "metadata": {},
   "outputs": [],
   "source": [
    "y_pred_uniform_sin = [np.array(sinmodellist)]* len(val_dataset)"
   ]
  },
  {
   "cell_type": "code",
   "execution_count": null,
   "metadata": {},
   "outputs": [],
   "source": [
    "sin_df=pd.DataFrame(y_pred_uniform_sin, columns=range(1,days_to_predict+1)).head()"
   ]
  },
  {
   "cell_type": "code",
   "execution_count": null,
   "metadata": {},
   "outputs": [],
   "source": [
    "sin_df"
   ]
  },
  {
   "cell_type": "code",
   "execution_count": null,
   "metadata": {},
   "outputs": [],
   "source": [
    "sku, stock,  days = pd.DataFrame(val_dataset)[['sku','target_stock','inventory_days']].sample(1).to_dict(orient='records')[0].values()\n",
    "plt.ylim([0,0.05])\n",
    "plt.axvline(days, color='r')\n",
    "plt.title(f'sku:{sku}, target_stock:{stock},target days: {days}')\n",
    "plt.bar(range(1,31), np.array(sinmodellist), color='green')\n",
    "\n",
    "plt.xlabel('Dias')\n",
    "plt.ylabel('Probabilidad')\n",
    "plt.legend(['Target days', 'Dist. tipo lineal positivo'])"
   ]
  },
  {
   "cell_type": "code",
   "execution_count": null,
   "metadata": {},
   "outputs": [],
   "source": [
    "sin_score = scoring_function(y_true_val, y_pred_uniform_sin)\n",
    "print('RPS para el modelo: ',sin_score)"
   ]
  },
  {
   "cell_type": "markdown",
   "metadata": {},
   "source": [
    "## Modelo de utilizando la función seno 2"
   ]
  },
  {
   "cell_type": "code",
   "execution_count": null,
   "metadata": {},
   "outputs": [],
   "source": [
    "sinmodellist2=[0.0164165, 0.0532135, 0.0491695, 0.0350233, 0.0288988, 0.0292999, \\\n",
    "0.0405814, 0.0505189, 0.0201511, 0.0150488, 0.0396941, 0.0516458, \\\n",
    "0.0536049, 0.0490295, 0.0407599, 0.0307832, 0.0203675, 0.0102636, \\\n",
    "0.00087796, 0.00760045, 0.0151142, 0.0216815, 0.0273616, 0.0322326, \\\n",
    "0.0363792, 0.039885, 0.042829, 0.0452832, 0.0473121, 0.048973]"
   ]
  },
  {
   "cell_type": "code",
   "execution_count": null,
   "metadata": {},
   "outputs": [],
   "source": [
    "days_to_predict = 30"
   ]
  },
  {
   "cell_type": "code",
   "execution_count": null,
   "metadata": {},
   "outputs": [],
   "source": [
    "y_pred_uniform_sin2 = [np.array(sinmodellist2)]* len(val_dataset)"
   ]
  },
  {
   "cell_type": "code",
   "execution_count": null,
   "metadata": {},
   "outputs": [],
   "source": [
    "sin_df2=pd.DataFrame(y_pred_uniform_sin2, columns=range(1,days_to_predict+1)).head()"
   ]
  },
  {
   "cell_type": "code",
   "execution_count": null,
   "metadata": {},
   "outputs": [],
   "source": [
    "sin_df2"
   ]
  },
  {
   "cell_type": "code",
   "execution_count": null,
   "metadata": {},
   "outputs": [],
   "source": [
    "sku, stock,  days = pd.DataFrame(val_dataset)[['sku','target_stock','inventory_days']].sample(1).to_dict(orient='records')[0].values()\n",
    "plt.ylim([0,0.09])\n",
    "plt.axvline(days, color='r')\n",
    "plt.title(f'sku:{sku}, target_stock:{stock},target days: {days}')\n",
    "plt.bar(range(1,31), np.array(sinmodellist2), color='green')\n",
    "\n",
    "plt.xlabel('Dias')\n",
    "plt.ylabel('Probabilidad')\n",
    "plt.legend(['Target days', 'Dist. tipo abs sin 1'])"
   ]
  },
  {
   "cell_type": "code",
   "execution_count": null,
   "metadata": {},
   "outputs": [],
   "source": [
    "sin_score2 = scoring_function(y_true_val, y_pred_uniform_sin2)\n",
    "print('RPS para el modelo: ',sin_score2)"
   ]
  },
  {
   "cell_type": "markdown",
   "metadata": {},
   "source": [
    "## Modelo de utilizando la función cos"
   ]
  },
  {
   "cell_type": "code",
   "execution_count": null,
   "metadata": {},
   "outputs": [],
   "source": [
    "cosmodellist=[0.0441592, 0.018921, 0.0391258, 0.0304837, 0.042998, 0.0313376, \\\n",
    "0.00449062, 0.0303066, 0.0429224, 0.0463595, 0.0445025, 0.0399365, \\\n",
    "0.0341897, 0.0281125, 0.0221543, 0.0441592, 0.018921, 0.0391258, \\\n",
    "0.0304837, 0.042998, 0.0313376, 0.00449062, 0.0303066, 0.0429224, \\\n",
    "0.0463595, 0.0445025, 0.0399365, 0.0341897, 0.0281125, 0.0221543]"
   ]
  },
  {
   "cell_type": "code",
   "execution_count": null,
   "metadata": {},
   "outputs": [],
   "source": [
    "days_to_predict = 30"
   ]
  },
  {
   "cell_type": "code",
   "execution_count": null,
   "metadata": {},
   "outputs": [],
   "source": [
    "y_pred_uniform_cos = [np.array(cosmodellist)]* len(val_dataset)"
   ]
  },
  {
   "cell_type": "code",
   "execution_count": null,
   "metadata": {},
   "outputs": [],
   "source": [
    "cos_df=pd.DataFrame(y_pred_uniform_cos, columns=range(1,days_to_predict+1)).head()"
   ]
  },
  {
   "cell_type": "code",
   "execution_count": null,
   "metadata": {},
   "outputs": [],
   "source": [
    "cos_df"
   ]
  },
  {
   "cell_type": "code",
   "execution_count": null,
   "metadata": {},
   "outputs": [],
   "source": [
    "sku, stock,  days = pd.DataFrame(val_dataset)[['sku','target_stock','inventory_days']].sample(1).to_dict(orient='records')[0].values()\n",
    "plt.ylim([0,0.09])\n",
    "plt.axvline(days, color='r')\n",
    "plt.title(f'sku:{sku}, target_stock:{stock},target days: {days}')\n",
    "plt.bar(range(1,31), np.array(cosmodellist), color='green')\n",
    "\n",
    "plt.xlabel('Dias')\n",
    "plt.ylabel('Probabilidad')\n",
    "plt.legend(['Target days', 'Dist. tipo abs cos'])"
   ]
  },
  {
   "cell_type": "code",
   "execution_count": null,
   "metadata": {},
   "outputs": [],
   "source": [
    "cos_score = scoring_function(y_true_val, y_pred_uniform_cos)\n",
    "print('RPS para el modelo: ',cos_score)"
   ]
  },
  {
   "cell_type": "markdown",
   "metadata": {},
   "source": [
    "## Modelo de utilizando la función Sin2"
   ]
  },
  {
   "cell_type": "code",
   "execution_count": null,
   "metadata": {},
   "outputs": [],
   "source": [
    "sinmodellist3=[0.116848, 0.101193, 0.082624, 0.0686815, 0.058424, 0.0506984, \\\n",
    "0.0447158, 0.0399643, 0.036108, 0.0329199, 0.0302425, 0.0279635, \\\n",
    "0.0260011, 0.0242941, 0.0227959, 0.0214708, 0.0202904, 0.0192325, \\\n",
    "0.018279, 0.0174153, 0.0166292, 0.0159108, 0.0152517, 0.0146449, \\\n",
    "0.0140845, 0.0135652, 0.0130828, 0.0126335, 0.0122139, 0.0118213]"
   ]
  },
  {
   "cell_type": "code",
   "execution_count": null,
   "metadata": {},
   "outputs": [],
   "source": [
    "days_to_predict = 30"
   ]
  },
  {
   "cell_type": "code",
   "execution_count": null,
   "metadata": {},
   "outputs": [],
   "source": [
    "y_pred_uniform_sin3 = [np.array(sinmodellist3)]* len(val_dataset)"
   ]
  },
  {
   "cell_type": "code",
   "execution_count": null,
   "metadata": {},
   "outputs": [],
   "source": [
    "sin3_df=pd.DataFrame(y_pred_uniform_sin3, columns=range(1,days_to_predict+1)).head()"
   ]
  },
  {
   "cell_type": "code",
   "execution_count": null,
   "metadata": {},
   "outputs": [],
   "source": [
    "sin3_df"
   ]
  },
  {
   "cell_type": "code",
   "execution_count": null,
   "metadata": {},
   "outputs": [],
   "source": [
    "sku, stock,  days = pd.DataFrame(val_dataset)[['sku','target_stock','inventory_days']].sample(1).to_dict(orient='records')[0].values()\n",
    "plt.ylim([0,0.09])\n",
    "plt.axvline(days, color='r')\n",
    "plt.title(f'sku:{sku}, target_stock:{stock},target days: {days}')\n",
    "plt.bar(range(1,31), np.array(sinmodellist3), color='green')\n",
    "\n",
    "plt.xlabel('Dias')\n",
    "plt.ylabel('Probabilidad')\n",
    "plt.legend(['Target days', 'Dist. tipo abs sin3'])"
   ]
  },
  {
   "cell_type": "code",
   "execution_count": null,
   "metadata": {},
   "outputs": [],
   "source": [
    "sin3_score = scoring_function(y_true_val, y_pred_uniform_sin3)\n",
    "print('RPS para el modelo: ',sin3_score)"
   ]
  },
  {
   "cell_type": "markdown",
   "metadata": {},
   "source": [
    "## Modelo de utilizando la función cos2"
   ]
  },
  {
   "cell_type": "code",
   "execution_count": null,
   "metadata": {},
   "outputs": [],
   "source": [
    "cos2modellist=[0.0342355, 0.102539, 0.0602664, 0.0846295, 0.0420236, 0.0827792, \\\n",
    "0.111789, 0.0850019, 0.042475, 0.00183092, 0.0315195, 0.0570606, \\\n",
    "0.0758661, 0.0893169, 0.098666,0.0342355, 0.102539, 0.0602664, 0.0846295, 0.0420236, 0.0827792, \\\n",
    "0.111789, 0.0850019, 0.042475, 0.00183092, 0.0315195, 0.0570606, \\\n",
    "0.0758661, 0.0893169, 0.098666]"
   ]
  },
  {
   "cell_type": "code",
   "execution_count": null,
   "metadata": {},
   "outputs": [],
   "source": [
    "y_pred_uniform_cos2 = [np.array(cos2modellist)]* len(val_dataset)"
   ]
  },
  {
   "cell_type": "code",
   "execution_count": null,
   "metadata": {},
   "outputs": [],
   "source": [
    "cos_df2=pd.DataFrame(y_pred_uniform_cos2, columns=range(1,days_to_predict+1)).head()"
   ]
  },
  {
   "cell_type": "code",
   "execution_count": null,
   "metadata": {},
   "outputs": [],
   "source": [
    "cos_df2"
   ]
  },
  {
   "cell_type": "code",
   "execution_count": null,
   "metadata": {},
   "outputs": [],
   "source": [
    "sku, stock,  days = pd.DataFrame(val_dataset)[['sku','target_stock','inventory_days']].sample(1).to_dict(orient='records')[0].values()\n",
    "plt.ylim([0,0.15])\n",
    "plt.axvline(days, color='r')\n",
    "plt.title(f'sku:{sku}, target_stock:{stock},target days: {days}')\n",
    "plt.bar(range(1,31), np.array(cos2modellist), color='green')\n",
    "\n",
    "plt.xlabel('Dias')\n",
    "plt.ylabel('Probabilidad')\n",
    "plt.legend(['Target days', 'Dist. tipo abs cos2'])"
   ]
  },
  {
   "cell_type": "code",
   "execution_count": null,
   "metadata": {},
   "outputs": [],
   "source": [
    "cos2_score = scoring_function(y_true_val, y_pred_uniform_cos2)\n",
    "print('RPS para el modelo: ',cos2_score)"
   ]
  },
  {
   "cell_type": "markdown",
   "metadata": {},
   "source": [
    "### Por último, generamos un archivo de presentación con las predicciones del modelo"
   ]
  },
  {
   "cell_type": "code",
   "execution_count": null,
   "metadata": {},
   "outputs": [],
   "source": [
    "def array2text(y_pred):\n",
    "    \"\"\"convert a list of number in a list of texts with 4 decimal positions \"\"\"\n",
    "    result = []\n",
    "    for xs in tqdm(y_pred):\n",
    "        line = []\n",
    "        for x in xs:\n",
    "            line.append('{:.4f}'.format(x))\n",
    "        result.append(line)\n",
    "    return result\n",
    "\n",
    "def make_submission_file(y_pred, file_name='submission_file', compress=True, single_row=True):\n",
    "    \"\"\"Convert a list of text into a submition file\"\"\"\n",
    "    result = array2text(y_pred)\n",
    "    if compress:\n",
    "        if single_row:\n",
    "            file_name = f'{file_name}.csv.gz'\n",
    "            with gzip.open(file_name, \"wt\") as f:\n",
    "                writer = csv.writer(f)\n",
    "                for row in tqdm(result, desc='making file...'):\n",
    "                    writer.writerow(row)\n",
    "        else:\n",
    "            file_name = f'{file_name}.csv.gz'\n",
    "            with gzip.open(file_name, \"wt\") as f:\n",
    "                writer = csv.writer(f)\n",
    "                writer.writerows(result)\n",
    "    else:\n",
    "        if single_row:\n",
    "            file_name = f'{file_name}.csv'            \n",
    "            with open(file_name, \"w\") as f:\n",
    "                writer = csv.writer(f)\n",
    "                for row in tqdm(result, desc='making file...'):\n",
    "                    writer.writerow(row)\n",
    "        else:\n",
    "            file_name = f'{file_name}.csv'\n",
    "            with open(file_name, \"w\") as f:\n",
    "                writer = csv.writer(f)\n",
    "                writer.writerows(result)\n",
    "    return file_name\n",
    "\n",
    "def read_submission_file(file_name, compress=False):\n",
    "    if compress:\n",
    "        with gzip.open(file_name, 'rt') as f:\n",
    "            submission = f.read()\n",
    "    else:\n",
    "        with open(file_name, 'r') as f:\n",
    "            submission = f.read()"
   ]
  },
  {
   "cell_type": "code",
   "execution_count": null,
   "metadata": {},
   "outputs": [],
   "source": [
    "file_name = make_submission_file(y_pred_uniform_cos2, 'y_pred_uniform_cos2', compress=True, single_row=True)\n",
    "print(f'Submission file created at: {file_name}')"
   ]
  },
  {
   "cell_type": "markdown",
   "metadata": {},
   "source": [
    "# Locura ultimo momento modelo normal 2.0"
   ]
  },
  {
   "cell_type": "code",
   "execution_count": null,
   "metadata": {},
   "outputs": [],
   "source": [
    "normalmodellist=[0.0701505, 0.0698569, 0.0689994, 0.0675985, 0.065688, 0.0633128, \\\n",
    "0.0605275, 0.0573946, 0.0539817, 0.0503591, 0.0465978, 0.0427671, \\\n",
    "0.0389324, 0.0351535, 0.0314835, 0.0279675, 0.0246423, 0.021536, \\\n",
    "0.0186683, 0.016051, 0.0136885, 0.0115789, 0.00971478, 0.00808455, \\\n",
    "0.00667323, 0.00546352, 0.00443675, 0.00357367, 0.00285509, 0.00226247]"
   ]
  },
  {
   "cell_type": "code",
   "execution_count": null,
   "metadata": {},
   "outputs": [],
   "source": [
    "y_pred_normal = [np.array(normalmodellist)]* len(val_dataset)"
   ]
  },
  {
   "cell_type": "code",
   "execution_count": null,
   "metadata": {},
   "outputs": [],
   "source": [
    "normal_df=pd.DataFrame(y_pred_normal, columns=range(1,days_to_predict+1)).head()"
   ]
  },
  {
   "cell_type": "code",
   "execution_count": null,
   "metadata": {},
   "outputs": [],
   "source": [
    "normal_df"
   ]
  },
  {
   "cell_type": "code",
   "execution_count": null,
   "metadata": {},
   "outputs": [],
   "source": [
    "sku, stock,  days = pd.DataFrame(val_dataset)[['sku','target_stock','inventory_days']].sample(1).to_dict(orient='records')[0].values()\n",
    "plt.ylim([0,0.15])\n",
    "plt.axvline(days, color='r')\n",
    "plt.title(f'sku:{sku}, target_stock:{stock},target days: {days}')\n",
    "plt.bar(range(1,31), np.array(normalmodellist), color='green')\n",
    "\n",
    "plt.xlabel('Dias')\n",
    "plt.ylabel('Probabilidad')\n",
    "plt.legend(['Target days', 'Dist. tipo Normal 2.0'])"
   ]
  },
  {
   "cell_type": "code",
   "execution_count": null,
   "metadata": {},
   "outputs": [],
   "source": [
    "normal_score = scoring_function(y_true_val, y_pred_normal)\n",
    "print('RPS para el modelo: ',normal_score)"
   ]
  },
  {
   "cell_type": "code",
   "execution_count": null,
   "metadata": {},
   "outputs": [],
   "source": [
    "data_train['sold_quantity'].mean()"
   ]
  },
  {
   "cell_type": "code",
   "execution_count": null,
   "metadata": {},
   "outputs": [],
   "source": [
    "data_train['sold_quantity'].std()"
   ]
  },
  {
   "cell_type": "markdown",
   "metadata": {},
   "source": [
    "# Locura ultimo momento modelo normal 3.0"
   ]
  },
  {
   "cell_type": "code",
   "execution_count": null,
   "metadata": {},
   "outputs": [],
   "source": [
    "normal2modellist=[0.0221316, 0.02371, 0.0252883, 0.026852, 0.028386, 0.0298746, \\\n",
    "0.0313017, 0.0326517, 0.0339088, 0.0350581, 0.0360857, 0.0369786, \\\n",
    "0.0377257, 0.0383171, 0.0387452, 0.0390044, 0.0390911, 0.0390044, \\\n",
    "0.0387452, 0.0383171, 0.0377257, 0.0369786, 0.0360857, 0.0350581, \\\n",
    "0.0339088, 0.0326517, 0.0313017, 0.0298746, 0.028386, 0.026852]"
   ]
  },
  {
   "cell_type": "code",
   "execution_count": null,
   "metadata": {},
   "outputs": [],
   "source": [
    "y_pred_normal2 = [np.array(normal2modellist)]* len(val_dataset)"
   ]
  },
  {
   "cell_type": "code",
   "execution_count": null,
   "metadata": {},
   "outputs": [],
   "source": [
    "normal2_df=pd.DataFrame(y_pred_normal2, columns=range(1,days_to_predict+1)).head()"
   ]
  },
  {
   "cell_type": "code",
   "execution_count": null,
   "metadata": {},
   "outputs": [],
   "source": [
    "normal2_df"
   ]
  },
  {
   "cell_type": "code",
   "execution_count": null,
   "metadata": {},
   "outputs": [],
   "source": [
    "sku, stock,  days = pd.DataFrame(val_dataset)[['sku','target_stock','inventory_days']].sample(1).to_dict(orient='records')[0].values()\n",
    "plt.ylim([0,0.06])\n",
    "plt.axvline(days, color='r')\n",
    "plt.title(f'sku:{sku}, target_stock:{stock},target days: {days}')\n",
    "plt.bar(range(1,31), np.array(normal2modellist), color='green')\n",
    "\n",
    "plt.xlabel('Dias')\n",
    "plt.ylabel('Probabilidad')\n",
    "plt.legend(['Target days', 'Dist. tipo Normal 3.0'])"
   ]
  },
  {
   "cell_type": "code",
   "execution_count": null,
   "metadata": {},
   "outputs": [],
   "source": [
    "normal2_score = scoring_function(y_true_val, y_pred_normal2)\n",
    "print('RPS para el modelo: ',normal2_score)"
   ]
  },
  {
   "cell_type": "code",
   "execution_count": null,
   "metadata": {},
   "outputs": [],
   "source": [
    "summary_site['sold_quantity'][:59].plot()"
   ]
  },
  {
   "cell_type": "code",
   "execution_count": null,
   "metadata": {},
   "outputs": [],
   "source": [
    "summary_site['sold_quantity'][60:].plot()"
   ]
  },
  {
   "cell_type": "markdown",
   "metadata": {},
   "source": [
    "# Locura ultimo momento modelo seno 4.0"
   ]
  },
  {
   "cell_type": "code",
   "execution_count": null,
   "metadata": {},
   "outputs": [],
   "source": [
    "# seno4modellist=[0.0476472, 0.00739468, 0.0396564, 0.0502476, 0.0146414, 0.0344261, \\\n",
    "# 0.0518423, 0.021595, 0.0285067, 0.0523995, 0.0281164, 0.0220167, \\\n",
    "# 0.0519078, 0.0340751, 0.0150861, 0.0503772, 0.0393517, 0.00785356, \\\n",
    "# 0.0478383, 0.0438407, 0.000463808, 0.0443419, 0.0474523, 0.00693523, \\\n",
    "# 0.039958, 0.0501141, 0.0141955, 0.0347744, 0.0517728, 0.0211716]\n",
    "seno4modellist=[0.0293805, 0.0274607, 0.0407968, 0.0328685, 0.0285574, 0.0402296, \\\n",
    "0.0356986, 0.0290825, 0.0388573, 0.0378142, 0.0290255, 0.0367072, \\\n",
    "0.0391729, 0.0283875, 0.0338224, 0.0397476, 0.0271814, 0.0302606, \\\n",
    "0.0395267, 0.0254312, 0.0260932, 0.0405048, 0.0291422, 0.0273736, \\\n",
    "0.0408052, 0.032669, 0.0285054, 0.0402889, 0.0355421, 0.0290666]"
   ]
  },
  {
   "cell_type": "code",
   "execution_count": null,
   "metadata": {},
   "outputs": [],
   "source": [
    "y_pred_seno4 = [np.array(seno4modellist)]* len(val_dataset)"
   ]
  },
  {
   "cell_type": "code",
   "execution_count": null,
   "metadata": {},
   "outputs": [],
   "source": [
    "seno4_df=pd.DataFrame(y_pred_seno4, columns=range(1,days_to_predict+1)).head()"
   ]
  },
  {
   "cell_type": "code",
   "execution_count": null,
   "metadata": {},
   "outputs": [],
   "source": [
    "seno4_df"
   ]
  },
  {
   "cell_type": "code",
   "execution_count": null,
   "metadata": {},
   "outputs": [],
   "source": [
    "sku, stock,  days = pd.DataFrame(val_dataset)[['sku','target_stock','inventory_days']].sample(1).to_dict(orient='records')[0].values()\n",
    "plt.ylim([0,0.06])\n",
    "plt.axvline(days, color='r')\n",
    "plt.title(f'sku:{sku}, target_stock:{stock},target days: {days}')\n",
    "plt.bar(range(1,31), np.array(seno4modellist), color='green')\n",
    "\n",
    "plt.xlabel('Dias')\n",
    "plt.ylabel('Probabilidad')\n",
    "plt.legend(['Target days', 'Dist. tipo Seno 4.0'])"
   ]
  },
  {
   "cell_type": "code",
   "execution_count": null,
   "metadata": {},
   "outputs": [],
   "source": [
    "seno4_score = scoring_function(y_true_val, y_pred_seno4)\n",
    "print('RPS para el modelo: ',seno4_score)"
   ]
  },
  {
   "cell_type": "markdown",
   "metadata": {},
   "source": [
    "## SUPERAMOS EL MODELO UNIFORME!"
   ]
  },
  {
   "cell_type": "markdown",
   "metadata": {},
   "source": []
  }
 ],
 "metadata": {
  "interpreter": {
   "hash": "f0b6db1679610a0756729c824bcdbb281d165c80c57dbccc30291b71c7bf7cdb"
  },
  "kernelspec": {
   "display_name": "Python [conda env:dhdsblend2021] *",
   "language": "python",
   "name": "conda-env-dhdsblend2021-py"
  },
  "language_info": {
   "codemirror_mode": {
    "name": "ipython",
    "version": 3
   },
   "file_extension": ".py",
   "mimetype": "text/x-python",
   "name": "python",
   "nbconvert_exporter": "python",
   "pygments_lexer": "ipython3",
   "version": "3.8.8"
  }
 },
 "nbformat": 4,
 "nbformat_minor": 4
}
